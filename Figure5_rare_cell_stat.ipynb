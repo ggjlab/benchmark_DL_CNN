{
 "cells": [
  {
   "cell_type": "code",
   "execution_count": 10,
   "id": "ed041994-553f-4fbf-baa7-7767e3e2e0b6",
   "metadata": {},
   "outputs": [],
   "source": [
    "import h5py\n",
    "import numpy as np\n",
    "import pandas as pd\n",
    "from tqdm import tqdm\n",
    "\n",
    "import scanpy as sc\n",
    "from sklearn.metrics.cluster import *\n",
    "import seaborn as sns\n",
    "from matplotlib import pyplot as plt\n"
   ]
  },
  {
   "cell_type": "code",
   "execution_count": null,
   "id": "fbace799-3a58-4296-a0f4-2019dc355b99",
   "metadata": {},
   "outputs": [
    {
     "name": "stdout",
     "output_type": "stream",
     "text": [
      "CPU times: user 46 s, sys: 0 ns, total: 46 s\n",
      "Wall time: 46 s\n"
     ]
    },
    {
     "data": {
      "text/plain": [
       "(1834, 179344)"
      ]
     },
     "execution_count": 12,
     "metadata": {},
     "output_type": "execute_result"
    }
   ],
   "source": [
    "%%time\n",
    "\n",
    "pred = pd.read_pickle(\"./MCA_MTL_Celltype/Test/test_mode_pred_prob.p\", compression='xz')\n",
    "pred.shape"
   ]
  },
  {
   "cell_type": "code",
   "execution_count": null,
   "id": "90bf71f3-939c-4c00-b360-0edd075bf3f8",
   "metadata": {},
   "outputs": [
    {
     "name": "stdout",
     "output_type": "stream",
     "text": [
      "(1834, 179344)\n"
     ]
    }
   ],
   "source": [
    "test_target = pd.read_pickle(\"./MCA_MTL_Celltype/Test/test_target_prob.p\", compression='xz')\n",
    "print(test_target.shape)"
   ]
  },
  {
   "cell_type": "code",
   "execution_count": 14,
   "id": "7db4ed91-e783-4490-915d-836fa158e4d9",
   "metadata": {},
   "outputs": [
    {
     "name": "stdout",
     "output_type": "stream",
     "text": [
      "(179344, 3)\n"
     ]
    },
    {
     "data": {
      "text/html": [
       "<div>\n",
       "<style scoped>\n",
       "    .dataframe tbody tr th:only-of-type {\n",
       "        vertical-align: middle;\n",
       "    }\n",
       "\n",
       "    .dataframe tbody tr th {\n",
       "        vertical-align: top;\n",
       "    }\n",
       "\n",
       "    .dataframe thead th {\n",
       "        text-align: right;\n",
       "    }\n",
       "</style>\n",
       "<table border=\"1\" class=\"dataframe\">\n",
       "  <thead>\n",
       "    <tr style=\"text-align: right;\">\n",
       "      <th></th>\n",
       "      <th>Species</th>\n",
       "      <th>Celltype</th>\n",
       "      <th>Cellcluster</th>\n",
       "    </tr>\n",
       "  </thead>\n",
       "  <tbody>\n",
       "    <tr>\n",
       "      <th>AdultAdrenalGland_1.AACCTAAGATGGGTAATG</th>\n",
       "      <td>Mouse</td>\n",
       "      <td>Endothelial_Mouse48</td>\n",
       "      <td>Endothelial</td>\n",
       "    </tr>\n",
       "    <tr>\n",
       "      <th>AdultAdrenalGland_1.AACCTAATCTCTCTCGCA</th>\n",
       "      <td>Mouse</td>\n",
       "      <td>Endothelial_Mouse48</td>\n",
       "      <td>Endothelial</td>\n",
       "    </tr>\n",
       "    <tr>\n",
       "      <th>AdultAdrenalGland_1.AACCTACAACAATGCGGA</th>\n",
       "      <td>Mouse</td>\n",
       "      <td>Endothelial_Mouse48</td>\n",
       "      <td>Endothelial</td>\n",
       "    </tr>\n",
       "  </tbody>\n",
       "</table>\n",
       "</div>"
      ],
      "text/plain": [
       "                                       Species             Celltype  \\\n",
       "AdultAdrenalGland_1.AACCTAAGATGGGTAATG   Mouse  Endothelial_Mouse48   \n",
       "AdultAdrenalGland_1.AACCTAATCTCTCTCGCA   Mouse  Endothelial_Mouse48   \n",
       "AdultAdrenalGland_1.AACCTACAACAATGCGGA   Mouse  Endothelial_Mouse48   \n",
       "\n",
       "                                        Cellcluster  \n",
       "AdultAdrenalGland_1.AACCTAAGATGGGTAATG  Endothelial  \n",
       "AdultAdrenalGland_1.AACCTAATCTCTCTCGCA  Endothelial  \n",
       "AdultAdrenalGland_1.AACCTACAACAATGCGGA  Endothelial  "
      ]
     },
     "execution_count": 14,
     "metadata": {},
     "output_type": "execute_result"
    }
   ],
   "source": [
    "anno = pd.read_csv(\"MCA_cellatlas.annotation.20210125.txt\", sep='\\t', index_col=0, header=0).loc[pred.columns]\n",
    "print(anno.shape)\n",
    "anno[:3]"
   ]
  },
  {
   "cell_type": "code",
   "execution_count": null,
   "id": "079bc150-876c-4c16-8b54-dc5c3ae5aa4f",
   "metadata": {},
   "outputs": [
    {
     "data": {
      "text/plain": [
       "AnnData object with n_obs × n_vars = 179344 × 1834\n",
       "    obs: 'Species', 'Celltype', 'Cellcluster', 'Idents'\n",
       "    var: 'highly_variable', 'means', 'dispersions', 'dispersions_norm'\n",
       "    uns: 'hvg', 'log1p'"
      ]
     },
     "execution_count": 15,
     "metadata": {},
     "output_type": "execute_result"
    }
   ],
   "source": [
    "adata = sc.read_h5ad(\"./d2_MCL/adata.h5ad\")\n",
    "adata"
   ]
  },
  {
   "cell_type": "code",
   "execution_count": 16,
   "id": "0896f628-291c-404c-abeb-cd1d444feaae",
   "metadata": {},
   "outputs": [
    {
     "data": {
      "text/plain": [
       "View of AnnData object with n_obs × n_vars = 179344 × 549\n",
       "    obs: 'Species', 'Celltype', 'Cellcluster', 'Idents'\n",
       "    var: 'highly_variable', 'means', 'dispersions', 'dispersions_norm'\n",
       "    uns: 'hvg', 'log1p'"
      ]
     },
     "execution_count": 16,
     "metadata": {},
     "output_type": "execute_result"
    }
   ],
   "source": [
    "adata0 = adata.copy()\n",
    "adata0 = adata0[:,adata0.var['highly_variable']]\n",
    "adata0"
   ]
  },
  {
   "cell_type": "code",
   "execution_count": 17,
   "id": "37dfd317-1f36-462b-b49f-443b87ebe5a4",
   "metadata": {},
   "outputs": [
    {
     "name": "stdout",
     "output_type": "stream",
     "text": [
      "(549, 179344)\n",
      "(549, 179344)\n"
     ]
    }
   ],
   "source": [
    "pred_highly = pred[pred.index.isin(adata0.var.index)]\n",
    "print(pred_highly.shape)\n",
    "test_target_highly = test_target[test_target.index.isin(adata0.var.index)]\n",
    "print(test_target_highly.shape)"
   ]
  },
  {
   "cell_type": "code",
   "execution_count": 18,
   "id": "cd0e7657-194f-450d-b583-482a835054cb",
   "metadata": {},
   "outputs": [],
   "source": [
    "threshold = 0.1109  # 可调整阈值\n",
    "binary_pred_highly = (pred_highly >= threshold).astype(int)  # 二值化"
   ]
  },
  {
   "cell_type": "code",
   "execution_count": 19,
   "id": "ab04999e-2b94-4138-86db-d19f382bccd8",
   "metadata": {},
   "outputs": [
    {
     "data": {
      "text/html": [
       "<div>\n",
       "<style scoped>\n",
       "    .dataframe tbody tr th:only-of-type {\n",
       "        vertical-align: middle;\n",
       "    }\n",
       "\n",
       "    .dataframe tbody tr th {\n",
       "        vertical-align: top;\n",
       "    }\n",
       "\n",
       "    .dataframe thead th {\n",
       "        text-align: right;\n",
       "    }\n",
       "</style>\n",
       "<table border=\"1\" class=\"dataframe\">\n",
       "  <thead>\n",
       "    <tr style=\"text-align: right;\">\n",
       "      <th></th>\n",
       "      <th>AdultAdrenalGland_1.AACCTAAGATGGGTAATG</th>\n",
       "      <th>AdultAdrenalGland_1.AACCTAATCTCTCTCGCA</th>\n",
       "      <th>AdultAdrenalGland_1.AACCTACAACAATGCGGA</th>\n",
       "    </tr>\n",
       "  </thead>\n",
       "  <tbody>\n",
       "    <tr>\n",
       "      <th>1110028F18Rik</th>\n",
       "      <td>1</td>\n",
       "      <td>1</td>\n",
       "      <td>1</td>\n",
       "    </tr>\n",
       "    <tr>\n",
       "      <th>1700001D01Rik</th>\n",
       "      <td>0</td>\n",
       "      <td>0</td>\n",
       "      <td>0</td>\n",
       "    </tr>\n",
       "  </tbody>\n",
       "</table>\n",
       "</div>"
      ],
      "text/plain": [
       "               AdultAdrenalGland_1.AACCTAAGATGGGTAATG  \\\n",
       "1110028F18Rik                                       1   \n",
       "1700001D01Rik                                       0   \n",
       "\n",
       "               AdultAdrenalGland_1.AACCTAATCTCTCTCGCA  \\\n",
       "1110028F18Rik                                       1   \n",
       "1700001D01Rik                                       0   \n",
       "\n",
       "               AdultAdrenalGland_1.AACCTACAACAATGCGGA  \n",
       "1110028F18Rik                                       1  \n",
       "1700001D01Rik                                       0  "
      ]
     },
     "execution_count": 19,
     "metadata": {},
     "output_type": "execute_result"
    }
   ],
   "source": [
    "binary_pred_highly.iloc[:2,:3]"
   ]
  },
  {
   "cell_type": "code",
   "execution_count": 20,
   "id": "9e3c3358-e52d-46fc-ba65-ad7fffe90f67",
   "metadata": {},
   "outputs": [
    {
     "data": {
      "text/html": [
       "<div>\n",
       "<style scoped>\n",
       "    .dataframe tbody tr th:only-of-type {\n",
       "        vertical-align: middle;\n",
       "    }\n",
       "\n",
       "    .dataframe tbody tr th {\n",
       "        vertical-align: top;\n",
       "    }\n",
       "\n",
       "    .dataframe thead th {\n",
       "        text-align: right;\n",
       "    }\n",
       "</style>\n",
       "<table border=\"1\" class=\"dataframe\">\n",
       "  <thead>\n",
       "    <tr style=\"text-align: right;\">\n",
       "      <th></th>\n",
       "      <th>AdultAdrenalGland_1.AACCTAAGATGGGTAATG</th>\n",
       "      <th>AdultAdrenalGland_1.AACCTAATCTCTCTCGCA</th>\n",
       "      <th>AdultAdrenalGland_1.AACCTACAACAATGCGGA</th>\n",
       "    </tr>\n",
       "  </thead>\n",
       "  <tbody>\n",
       "    <tr>\n",
       "      <th>1110028F18Rik</th>\n",
       "      <td>0.0</td>\n",
       "      <td>0.0</td>\n",
       "      <td>0.0</td>\n",
       "    </tr>\n",
       "    <tr>\n",
       "      <th>1700001D01Rik</th>\n",
       "      <td>0.0</td>\n",
       "      <td>0.0</td>\n",
       "      <td>0.0</td>\n",
       "    </tr>\n",
       "  </tbody>\n",
       "</table>\n",
       "</div>"
      ],
      "text/plain": [
       "               AdultAdrenalGland_1.AACCTAAGATGGGTAATG  \\\n",
       "1110028F18Rik                                     0.0   \n",
       "1700001D01Rik                                     0.0   \n",
       "\n",
       "               AdultAdrenalGland_1.AACCTAATCTCTCTCGCA  \\\n",
       "1110028F18Rik                                     0.0   \n",
       "1700001D01Rik                                     0.0   \n",
       "\n",
       "               AdultAdrenalGland_1.AACCTACAACAATGCGGA  \n",
       "1110028F18Rik                                     0.0  \n",
       "1700001D01Rik                                     0.0  "
      ]
     },
     "execution_count": 20,
     "metadata": {},
     "output_type": "execute_result"
    }
   ],
   "source": [
    "test_target_highly.iloc[:2,:3]"
   ]
  },
  {
   "cell_type": "code",
   "execution_count": null,
   "id": "46249ef0-151d-468b-ae80-e69bb3173fd5",
   "metadata": {},
   "outputs": [],
   "source": [
    "y_pred = binary_predtest_highly.to_numpy().values.flatten()"
   ]
  },
  {
   "cell_type": "code",
   "execution_count": 22,
   "id": "a62bb012-4bd6-4d79-8e0c-3a5299db74db",
   "metadata": {},
   "outputs": [],
   "source": [
    "y_true = test_target_highly.astype(int).values.flatten()  # 展平为一维数组\n",
    "y_pred = binary_pred_highly.values.flatten()"
   ]
  },
  {
   "cell_type": "code",
   "execution_count": 23,
   "id": "407f53d8-6c6a-455c-8d60-50001e4e3487",
   "metadata": {},
   "outputs": [
    {
     "data": {
      "text/plain": [
       "0    50583914\n",
       "1    47875942\n",
       "Name: count, dtype: int64"
      ]
     },
     "execution_count": 23,
     "metadata": {},
     "output_type": "execute_result"
    }
   ],
   "source": [
    "binary_pred_highly.stack().value_counts()"
   ]
  },
  {
   "cell_type": "code",
   "execution_count": 24,
   "id": "93119a5b-1c68-47f9-a45a-370d7121dbfe",
   "metadata": {},
   "outputs": [
    {
     "data": {
      "text/plain": [
       "array([0, 0, 0, ..., 0, 0, 0])"
      ]
     },
     "execution_count": 24,
     "metadata": {},
     "output_type": "execute_result"
    }
   ],
   "source": [
    "y_true"
   ]
  },
  {
   "cell_type": "code",
   "execution_count": 25,
   "id": "bf3856e6-5b8a-45d9-8ba5-013497cc62bf",
   "metadata": {},
   "outputs": [
    {
     "name": "stdout",
     "output_type": "stream",
     "text": [
      "混淆矩阵:\n",
      " [[48216894 26691372]\n",
      " [ 2367020 21184570]]\n"
     ]
    }
   ],
   "source": [
    "#2. 计算混淆矩阵​​\n",
    "from sklearn.metrics import confusion_matrix\n",
    "\n",
    "cm = confusion_matrix(y_true, y_pred)\n",
    "print(\"混淆矩阵:\\n\", cm)"
   ]
  },
  {
   "cell_type": "code",
   "execution_count": null,
   "id": "4cda475c-6cb3-4ec6-8d4d-f15f946c2eb6",
   "metadata": {},
   "outputs": [
    {
     "data": {
      "image/png": "[encoded data removed]",
      "text/plain": [
       "<Figure size 300x280 with 2 Axes>"
      ]
     },
     "metadata": {},
     "output_type": "display_data"
    }
   ],
   "source": [
    "import seaborn as sns\n",
    "import matplotlib.pyplot as plt\n",
    "\n",
    "# 假设cm是混淆矩阵数据\n",
    "plt.figure(figsize=(3, 2.8))\n",
    "heatmap = sns.heatmap(\n",
    "    cm, \n",
    "    annot=True, \n",
    "    fmt='d', \n",
    "    cmap='Blues',\n",
    "    annot_kws={\"size\": 10},  # 内部数字标签\n",
    "    xticklabels=['Predict-0', 'Predict-1'],\n",
    "    yticklabels=['True-0', 'True-1']\n",
    ")\n",
    "\n",
    "# 设置轴标签和标题字体\n",
    "#plt.xlabel('Prediction label', fontsize=12)\n",
    "#plt.ylabel('True label', fontsize=12)\n",
    "plt.title('Total celltypes', fontsize=12)\n",
    "plt.xticks(fontsize=12)                \n",
    "plt.yticks(fontsize=12)\n",
    "\n",
    "# 设置刻度标签字体\n",
    "heatmap.set_xticklabels(heatmap.get_xticklabels(), fontsize=10)\n",
    "heatmap.set_yticklabels(heatmap.get_yticklabels(), fontsize=10)\n",
    "\n",
    "\n",
    "plt.show()"
   ]
  },
  {
   "cell_type": "code",
   "execution_count": 28,
   "id": "78035878-2748-4de7-aa19-1e615a4f623d",
   "metadata": {},
   "outputs": [
    {
     "name": "stdout",
     "output_type": "stream",
     "text": [
      "准确率: 0.70\n",
      "精确率: 0.44\n",
      "召回率: 0.90\n",
      "F1-score: 0.59\n",
      "正负样本比例:0.95\n"
     ]
    }
   ],
   "source": [
    "TN, FP, FN, TP = cm.ravel()\n",
    "accuracy = (TP + TN) / (TP + TN + FP + FN)\n",
    "precision = TP / (TP + FP) if (TP + FP) > 0 else 0\n",
    "recall = TP / (TP + FN) if (TP + FN) > 0 else 0\n",
    "f1 = 2 * (precision * recall) / (precision + recall) if (precision + recall) > 0 else 0\n",
    "sample = 47875942/50583914\n",
    "   \n",
    "print(f\"准确率: {accuracy:.2f}\")\n",
    "print(f\"精确率: {precision:.2f}\")\n",
    "print(f\"召回率: {recall:.2f}\")\n",
    "print(f\"F1-score: {f1:.2f}\")\n",
    "print(f\"正负样本比例:{sample:.2f}\")"
   ]
  },
  {
   "cell_type": "code",
   "execution_count": 29,
   "id": "e82ab3ed-c046-4454-bd8a-1027ac30060e",
   "metadata": {},
   "outputs": [
    {
     "data": {
      "text/plain": [
       "0.8994963821975501"
      ]
     },
     "execution_count": 29,
     "metadata": {},
     "output_type": "execute_result"
    }
   ],
   "source": [
    "recall"
   ]
  },
  {
   "cell_type": "code",
   "execution_count": 30,
   "id": "e390f218-edb2-4ec0-aade-c7af4365eb16",
   "metadata": {},
   "outputs": [
    {
     "data": {
      "text/html": [
       "<div>\n",
       "<style scoped>\n",
       "    .dataframe tbody tr th:only-of-type {\n",
       "        vertical-align: middle;\n",
       "    }\n",
       "\n",
       "    .dataframe tbody tr th {\n",
       "        vertical-align: top;\n",
       "    }\n",
       "\n",
       "    .dataframe thead th {\n",
       "        text-align: right;\n",
       "    }\n",
       "</style>\n",
       "<table border=\"1\" class=\"dataframe\">\n",
       "  <thead>\n",
       "    <tr style=\"text-align: right;\">\n",
       "      <th></th>\n",
       "      <th>Accuracy</th>\n",
       "      <th>Precision</th>\n",
       "      <th>Recall</th>\n",
       "      <th>F1-score</th>\n",
       "      <th>ratio(1/0)</th>\n",
       "    </tr>\n",
       "  </thead>\n",
       "  <tbody>\n",
       "    <tr>\n",
       "      <th>0</th>\n",
       "      <td>0.704871</td>\n",
       "      <td>0.442489</td>\n",
       "      <td>0.899496</td>\n",
       "      <td>0.593177</td>\n",
       "      <td>0.946466</td>\n",
       "    </tr>\n",
       "  </tbody>\n",
       "</table>\n",
       "</div>"
      ],
      "text/plain": [
       "   Accuracy  Precision    Recall  F1-score  ratio(1/0)\n",
       "0  0.704871   0.442489  0.899496  0.593177    0.946466"
      ]
     },
     "execution_count": 30,
     "metadata": {},
     "output_type": "execute_result"
    }
   ],
   "source": [
    "df_total = pd.DataFrame({'Accuracy': [accuracy],\n",
    "                       'Precision':[precision],\n",
    "                       'Recall':[recall],\n",
    "                       'F1-score':[f1],\n",
    "                         'ratio(1/0)':[sample]\n",
    "                        })\n",
    "df_total"
   ]
  },
  {
   "cell_type": "code",
   "execution_count": 31,
   "id": "fa60e9a4-aa34-4fda-9b10-fd0cba19f62a",
   "metadata": {},
   "outputs": [
    {
     "data": {
      "text/html": [
       "<div>\n",
       "<style scoped>\n",
       "    .dataframe tbody tr th:only-of-type {\n",
       "        vertical-align: middle;\n",
       "    }\n",
       "\n",
       "    .dataframe tbody tr th {\n",
       "        vertical-align: top;\n",
       "    }\n",
       "\n",
       "    .dataframe thead th {\n",
       "        text-align: right;\n",
       "    }\n",
       "</style>\n",
       "<table border=\"1\" class=\"dataframe\">\n",
       "  <thead>\n",
       "    <tr style=\"text-align: right;\">\n",
       "      <th></th>\n",
       "      <th>0</th>\n",
       "    </tr>\n",
       "  </thead>\n",
       "  <tbody>\n",
       "    <tr>\n",
       "      <th>Accuracy</th>\n",
       "      <td>0.704871</td>\n",
       "    </tr>\n",
       "    <tr>\n",
       "      <th>Precision</th>\n",
       "      <td>0.442489</td>\n",
       "    </tr>\n",
       "    <tr>\n",
       "      <th>Recall</th>\n",
       "      <td>0.899496</td>\n",
       "    </tr>\n",
       "    <tr>\n",
       "      <th>F1-score</th>\n",
       "      <td>0.593177</td>\n",
       "    </tr>\n",
       "    <tr>\n",
       "      <th>ratio(1/0)</th>\n",
       "      <td>0.946466</td>\n",
       "    </tr>\n",
       "  </tbody>\n",
       "</table>\n",
       "</div>"
      ],
      "text/plain": [
       "                   0\n",
       "Accuracy    0.704871\n",
       "Precision   0.442489\n",
       "Recall      0.899496\n",
       "F1-score    0.593177\n",
       "ratio(1/0)  0.946466"
      ]
     },
     "execution_count": 31,
     "metadata": {},
     "output_type": "execute_result"
    }
   ],
   "source": [
    "df_total.T"
   ]
  },
  {
   "cell_type": "code",
   "execution_count": null,
   "id": "06860366-124b-4a6a-9c2d-b7545b6ce1bb",
   "metadata": {},
   "outputs": [
    {
     "data": {
      "image/png": "[encoded data removed]",
      "text/plain": [
       "<Figure size 300x280 with 1 Axes>"
      ]
     },
     "metadata": {},
     "output_type": "display_data"
    }
   ],
   "source": [
    "ax = df_total.T.plot(kind='bar', color='skyblue', figsize=(3,2.8),legend=False)\n",
    "plt.xticks(rotation=0)  # 避免横轴标签重叠\n",
    "ax.set_ylim(top=max(df_total.T.values) * 1.1)  # 增加15%的顶部空间[4](@ref)\n",
    "plt.xticks(rotation=45)  # 倾斜45度\n",
    "\n",
    "plt.xticks(fontsize=10)                \n",
    "plt.yticks(fontsize=0) \n",
    "##plt.legend(title='Sample')\n",
    "plt.title(\"Total celltypes\",fontsize=12)\n",
    "\n",
    "# 添加数值标签（保留两位小数）\n",
    "for container in ax.containers:\n",
    "    ax.bar_label(container, fmt='%.2f', label_type='edge')  \n",
    "\n",
    "plt.savefig('./Figure5/total_stat.png', dpi=300, bbox_inches='tight')\n",
    "plt.show()"
   ]
  },
  {
   "cell_type": "code",
   "execution_count": 65,
   "id": "37b808ef-6b12-41f2-9006-bf5f9517637a",
   "metadata": {},
   "outputs": [],
   "source": [
    "y_scores =  pred_highly.values.flatten()"
   ]
  },
  {
   "cell_type": "code",
   "execution_count": null,
   "id": "9a8f479b-a622-4a00-8c8a-8c60b14fa2b0",
   "metadata": {},
   "outputs": [
    {
     "data": {
      "image/png": "[encoded data removed]",
      "text/plain": [
       "<Figure size 300x280 with 1 Axes>"
      ]
     },
     "metadata": {},
     "output_type": "display_data"
    }
   ],
   "source": [
    "from sklearn.metrics import roc_curve, auc\n",
    "import matplotlib.pyplot as plt\n",
    "\n",
    "# 假设已有真实标签y_true和预测概率y_scores\n",
    "fpr, tpr, thresholds = roc_curve(y_true, y_scores)\n",
    "roc_auc = auc(fpr, tpr)\n",
    "\n",
    "# 绘制ROC曲线\n",
    "\n",
    "plt.figure(figsize=(3, 2.8))\n",
    "plt.xticks(fontsize=10)                \n",
    "plt.yticks(fontsize=10) \n",
    "\n",
    "plt.plot(fpr, tpr, color='darkorange', label=f'ROC (AUC = {roc_auc:.2f})')\n",
    "plt.plot([0, 1], [0, 1], linestyle='--', color='navy', label='Random Guess')\n",
    "plt.xlabel('False Positive Rate (FPR)')\n",
    "plt.ylabel('True Positive Rate (TPR)')\n",
    "plt.title('Total celltypes',fontsize=12)\n",
    "plt.legend(loc='lower right',frameon=True,framealpha=0.2)\n",
    "plt.savefig('./Figure5/total_roc.png', dpi=300, bbox_inches='tight')\n",
    "plt.show()"
   ]
  },
  {
   "cell_type": "code",
   "execution_count": null,
   "id": "75f6d257-0db2-4120-9b0e-dde9d6a7f926",
   "metadata": {},
   "outputs": [],
   "source": [
    "plt.xticks(fontsize=10)                \n",
    "plt.yticks(fontsize=10) \n",
    "##plt.legend(title='Sample')\n",
    "plt.title(\"Total celltypes\")\n",
    "\n",
    "# 添加数值标签（保留两位小数）\n",
    "for container in ax.containers:\n",
    "    ax.bar_label(container, fmt='%.2f', label_type='edge')  \n",
    "\n",
    "plt.savefig('./Figure5/total_stat.png', dpi=300, bbox_inches='tight')\n",
    "plt.show()"
   ]
  },
  {
   "cell_type": "code",
   "execution_count": 145,
   "id": "afd0f94a-9cd6-4da7-af9a-e09d406ead3d",
   "metadata": {},
   "outputs": [],
   "source": [
    "cell_mask = anno[anno['Celltype'].isin(['Muscle_Mouse98'])].index\n",
    "#cell_mask"
   ]
  },
  {
   "cell_type": "code",
   "execution_count": 78,
   "id": "fe25de96-820b-4ee8-837d-8755b02cfb4e",
   "metadata": {},
   "outputs": [
    {
     "data": {
      "text/plain": [
       "array([0, 0, 0, ..., 0, 0, 0])"
      ]
     },
     "execution_count": 78,
     "metadata": {},
     "output_type": "execute_result"
    }
   ],
   "source": [
    "test_target_highly.loc[:, cell_mask].astype(int).values.flatten()"
   ]
  },
  {
   "cell_type": "code",
   "execution_count": 146,
   "id": "290ffa4b-d490-425d-9934-7b7e62214fbe",
   "metadata": {},
   "outputs": [
    {
     "data": {
      "text/plain": [
       "1    24679\n",
       "0    20888\n",
       "Name: count, dtype: int64"
      ]
     },
     "execution_count": 146,
     "metadata": {},
     "output_type": "execute_result"
    }
   ],
   "source": [
    "tmp_y_pred_cell = binary_pred_highly.loc[:, cell_mask]\n",
    "tmp_y_pred_cell.stack().value_counts()"
   ]
  },
  {
   "cell_type": "code",
   "execution_count": null,
   "id": "72b358cc-9820-4da1-9ba6-dae3d2b78ab9",
   "metadata": {},
   "outputs": [
    {
     "name": "stdout",
     "output_type": "stream",
     "text": [
      "细胞类型 Muscle_Mouse98 的混淆矩阵:\n",
      " [[20197 12913]\n",
      " [  691 11766]]\n"
     ]
    }
   ],
   "source": [
    "\n",
    "cell_types = 'Muscle_Mouse98'\n",
    "\n",
    "# 按细胞类型分组计算\n",
    "for cell_type in np.unique(cell_types):\n",
    "    cell_mask = anno[anno['Celltype'] == (cell_type)].index\n",
    "    y_true_cell = test_target_highly.loc[:, cell_mask].astype(int).values.flatten()\n",
    "    y_pred_cell = binary_pred_highly.loc[:, cell_mask].values.flatten()\n",
    "    cm_cell = confusion_matrix(y_true_cell, y_pred_cell)\n",
    "    print(f\"细胞类型 {cell_type} 的混淆矩阵:\\n\", cm_cell)"
   ]
  },
  {
   "cell_type": "code",
   "execution_count": null,
   "id": "1a46552f-3557-48fa-b6aa-f232b4c37626",
   "metadata": {},
   "outputs": [
    {
     "data": {
      "image/png": "[encoded data removed]",
      "text/plain": [
       "<Figure size 300x280 with 2 Axes>"
      ]
     },
     "metadata": {},
     "output_type": "display_data"
    }
   ],
   "source": [
    "import seaborn as sns\n",
    "import matplotlib.pyplot as plt\n",
    "\n",
    "# 假设cm是混淆矩阵数据\n",
    "plt.figure(figsize=(3, 2.8))\n",
    "heatmap = sns.heatmap(\n",
    "    cm_cell, \n",
    "    annot=True, \n",
    "    fmt='d', \n",
    "    cmap='Blues',\n",
    "    annot_kws={\"size\": 10},  # 内部数字标签\n",
    "    xticklabels=['Predict-0', 'Predict-1'],\n",
    "    yticklabels=['True-0', 'True-1']\n",
    ")\n",
    "\n",
    "\n",
    "plt.title('Muscle_Mouse98', fontsize=12)\n",
    "plt.xticks(fontsize=12)                \n",
    "plt.yticks(fontsize=12)\n",
    "\n",
    "# 设置刻度标签字体\n",
    "heatmap.set_xticklabels(heatmap.get_xticklabels(), fontsize=10)\n",
    "heatmap.set_yticklabels(heatmap.get_yticklabels(), fontsize=10)\n",
    "\n",
    "plt.savefig('./Figure5/muscle_confusion_matrix.png', dpi=300, bbox_inches='tight')\n",
    "plt.show()"
   ]
  },
  {
   "cell_type": "code",
   "execution_count": 147,
   "id": "f6831d67-32fe-4690-baef-2dbc69a4bd6d",
   "metadata": {},
   "outputs": [
    {
     "name": "stdout",
     "output_type": "stream",
     "text": [
      "准确率: 0.70\n",
      "精确率: 0.48\n",
      "召回率: 0.94\n",
      "F1-score: 0.63\n",
      "正负样本比例:1.18\n"
     ]
    }
   ],
   "source": [
    "TN, FP, FN, TP = cm_cell.ravel()\n",
    "accuracy = (TP + TN) / (TP + TN + FP + FN)\n",
    "precision = TP / (TP + FP) if (TP + FP) > 0 else 0\n",
    "recall = TP / (TP + FN) if (TP + FN) > 0 else 0\n",
    "f1 = 2 * (precision * recall) / (precision + recall) if (precision + recall) > 0 else 0\n",
    "sample = 24679/20888\n",
    "\n",
    "print(f\"准确率: {accuracy:.2f}\")\n",
    "print(f\"精确率: {precision:.2f}\")\n",
    "print(f\"召回率: {recall:.2f}\")\n",
    "print(f\"F1-score: {f1:.2f}\")\n",
    "print(f\"正负样本比例:{sample:.2f}\")"
   ]
  },
  {
   "cell_type": "code",
   "execution_count": 190,
   "id": "27eedd3d-7d58-4ce5-aecf-46ba07a7da93",
   "metadata": {},
   "outputs": [
    {
     "data": {
      "text/html": [
       "<div>\n",
       "<style scoped>\n",
       "    .dataframe tbody tr th:only-of-type {\n",
       "        vertical-align: middle;\n",
       "    }\n",
       "\n",
       "    .dataframe tbody tr th {\n",
       "        vertical-align: top;\n",
       "    }\n",
       "\n",
       "    .dataframe thead th {\n",
       "        text-align: right;\n",
       "    }\n",
       "</style>\n",
       "<table border=\"1\" class=\"dataframe\">\n",
       "  <thead>\n",
       "    <tr style=\"text-align: right;\">\n",
       "      <th></th>\n",
       "      <th>Accuracy</th>\n",
       "      <th>Precision</th>\n",
       "      <th>Recal</th>\n",
       "      <th>F1-score</th>\n",
       "      <th>ratio(1/0)</th>\n",
       "    </tr>\n",
       "  </thead>\n",
       "  <tbody>\n",
       "    <tr>\n",
       "      <th>0</th>\n",
       "      <td>0.701451</td>\n",
       "      <td>0.476762</td>\n",
       "      <td>0.944529</td>\n",
       "      <td>0.633671</td>\n",
       "      <td>1.181492</td>\n",
       "    </tr>\n",
       "  </tbody>\n",
       "</table>\n",
       "</div>"
      ],
      "text/plain": [
       "   Accuracy  Precision     Recal  F1-score  ratio(1/0)\n",
       "0  0.701451   0.476762  0.944529  0.633671    1.181492"
      ]
     },
     "execution_count": 190,
     "metadata": {},
     "output_type": "execute_result"
    }
   ],
   "source": [
    "df_cell = pd.DataFrame({'Accuracy': [accuracy],\n",
    "                       'Precision':[precision],\n",
    "                       'Recal':[recall],\n",
    "                       'F1-score':[f1],\n",
    "                       'ratio(1/0)':[sample]\n",
    "                       })\n",
    "df_cell"
   ]
  },
  {
   "cell_type": "code",
   "execution_count": 204,
   "id": "2412de9d-b869-4100-a564-db8e6b9251f4",
   "metadata": {},
   "outputs": [
    {
     "data": {
      "text/plain": [
       "array([3.5444753])"
      ]
     },
     "execution_count": 204,
     "metadata": {},
     "output_type": "execute_result"
    }
   ],
   "source": [
    "max(df_cell.T.values) *3"
   ]
  },
  {
   "cell_type": "code",
   "execution_count": null,
   "id": "af1e9637-12b0-435b-a98c-4cd05594c18f",
   "metadata": {},
   "outputs": [
    {
     "data": {
      "image/png": "[encoded data removed]",
      "text/plain": [
       "<Figure size 300x280 with 1 Axes>"
      ]
     },
     "metadata": {},
     "output_type": "display_data"
    }
   ],
   "source": [
    "#ax = df_total.T.plot(kind='bar', color='skyblue', figsize=(3,3.2),legend=False)\n",
    "ax_cell = df_cell.T.plot(kind='bar', color='skyblue', figsize=(3,2.8),legend=False)\n",
    "plt.xticks(rotation=0)  # 避免横轴标签重叠\n",
    "ax_cell.set_ylim(top=max(df_cell.T.values) * 1.1)  # 增加15%的顶部空间[4](@ref)\n",
    "#ax.set_ylim(0,1.5) \n",
    "plt.xticks(rotation=45)  # 倾斜45度\n",
    "\n",
    "plt.xticks(fontsize=10)                \n",
    "plt.yticks(fontsize=0) \n",
    "##plt.legend(title='Sample')\n",
    "plt.title(\"Muscle_Mouse98\",fontsize=12)\n",
    "\n",
    "# 添加数值标签（保留两位小数）\n",
    "for container in ax_cell.containers:\n",
    "    ax_cell.bar_label(container, fmt='%.2f', label_type='edge')  \n",
    "\n",
    "plt.savefig('./Figure5/Muscle_Mouse98_stat.png', dpi=300, bbox_inches='tight')\n",
    "#plt.show()"
   ]
  },
  {
   "cell_type": "code",
   "execution_count": null,
   "id": "a0e63dee-7cb4-4ffb-b146-df589ebbfdae",
   "metadata": {},
   "outputs": [],
   "source": [
    " y_true_cell = test_target_highly.loc[:, cell_mask].astype(int).values.flatten()\n",
    " y_pred_cell = binary_pred_highly.loc[:, cell_mask].values.flatten()"
   ]
  },
  {
   "cell_type": "code",
   "execution_count": 92,
   "id": "760fed1c-5c04-476f-94e5-cecf26d66394",
   "metadata": {},
   "outputs": [],
   "source": [
    "cell_mask = anno[anno['Celltype'] == 'Muscle_Mouse98'].index\n",
    "tmp = pd.DataFrame(pred_highly)\n",
    "tmp = tmp.loc[:,cell_mask]"
   ]
  },
  {
   "cell_type": "code",
   "execution_count": 93,
   "id": "8fededcc-cb08-469f-9ec9-f14655ac6f09",
   "metadata": {},
   "outputs": [],
   "source": [
    "y_scores_cell =  tmp.values.flatten()"
   ]
  },
  {
   "cell_type": "code",
   "execution_count": null,
   "id": "86734ba6-d9cd-4e87-aca1-087062db139d",
   "metadata": {},
   "outputs": [
    {
     "data": {
      "image/png": "[encoded data removed]",
      "text/plain": [
       "<Figure size 300x280 with 1 Axes>"
      ]
     },
     "metadata": {},
     "output_type": "display_data"
    }
   ],
   "source": [
    "from sklearn.metrics import roc_curve, auc\n",
    "import matplotlib.pyplot as plt\n",
    "\n",
    "# 假设已有真实标签y_true和预测概率y_scores\n",
    "fpr, tpr, thresholds = roc_curve(y_true_cell, y_scores_cell)\n",
    "roc_auc = auc(fpr, tpr)\n",
    "\n",
    "# 绘制ROC曲线\n",
    "\n",
    "plt.figure(figsize=(3, 2.8))\n",
    "plt.xticks(fontsize=10)                \n",
    "plt.yticks(fontsize=10) \n",
    "\n",
    "plt.plot(fpr, tpr, color='darkorange', label=f'ROC (AUC = {roc_auc:.2f})')\n",
    "plt.plot([0, 1], [0, 1], linestyle='--', color='navy', label='Random Guess')\n",
    "plt.xlabel('False Positive Rate (FPR)')\n",
    "plt.ylabel('True Positive Rate (TPR)')\n",
    "plt.title('Muscle_Mouse98',fontsize=12)\n",
    "plt.legend(loc='lower right',frameon=True,framealpha=0.2)\n",
    "plt.savefig('./Figure5/Muscle_Mouse98_roc.png', dpi=300, bbox_inches='tight')\n",
    "plt.show()"
   ]
  }
 ],
 "metadata": {
  "kernelspec": {
   "display_name": "nvwa2",
   "language": "python",
   "name": "nvwa2"
  },
  "language_info": {
   "codemirror_mode": {
    "name": "ipython",
    "version": 3
   },
   "file_extension": ".py",
   "mimetype": "text/x-python",
   "name": "python",
   "nbconvert_exporter": "python",
   "pygments_lexer": "ipython3",
   "version": "3.11.10"
  }
 },
 "nbformat": 4,
 "nbformat_minor": 5
}
